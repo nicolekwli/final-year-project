{
  "nbformat": 4,
  "nbformat_minor": 0,
  "metadata": {
    "colab": {
      "name": "fyp.ipynb",
      "provenance": [],
      "authorship_tag": "ABX9TyMebq0HGV/Qkb+kYBC58+FR",
      "include_colab_link": true
    },
    "kernelspec": {
      "name": "python3",
      "display_name": "Python 3"
    }
  },
  "cells": [
    {
      "cell_type": "markdown",
      "metadata": {
        "id": "view-in-github",
        "colab_type": "text"
      },
      "source": [
        "<a href=\"https://colab.research.google.com/github/nicolekwli/final-year-project/blob/main/fyp.ipynb\" target=\"_parent\"><img src=\"https://colab.research.google.com/assets/colab-badge.svg\" alt=\"Open In Colab\"/></a>"
      ]
    },
    {
      "cell_type": "markdown",
      "metadata": {
        "id": "VKLsRRjOIXgd"
      },
      "source": [
        "This function initialises the model with dimensions given in the Oord et al paper, although padding was not mentioned.\n",
        "\n",
        "The function also initialises the optimiser.\n",
        "\n",
        "\n",
        "\n"
      ]
    },
    {
      "cell_type": "code",
      "metadata": {
        "id": "BdEAtdk-KO5G"
      },
      "source": [
        "def load_model_and_optimizer(\n",
        "    opt, reload_model=False, calc_accuracy=False, num_GPU=None\n",
        "):\n",
        "\n",
        "    # original dimensions given in CPC paper (Oord et al.)\n",
        "    kernel_sizes = [10, 8, 4, 4, 4]\n",
        "    strides = [5, 4, 2, 2, 2]\n",
        "    padding = [2, 2, 2, 2, 1]\n",
        "    enc_hidden = 512\n",
        "    reg_hidden = 256\n",
        "\n",
        "    ## initialize model\n",
        "    model = full_model.FullModel(\n",
        "        opt,\n",
        "        kernel_sizes=kernel_sizes,\n",
        "        strides=strides,\n",
        "        padding=padding,\n",
        "        enc_hidden=enc_hidden,\n",
        "        reg_hidden=reg_hidden,\n",
        "        calc_accuracy=calc_accuracy,\n",
        "    )\n",
        "\n",
        "    # run on only one GPU for supervised losses\n",
        "    if opt.loss == 2 or opt.loss == 1:\n",
        "        num_GPU = 1\n",
        "\n",
        "    model, num_GPU = model_utils.distribute_over_GPUs(opt, model, num_GPU=num_GPU)\n",
        "\n",
        "    \"\"\" initialize optimizers\n",
        "    We need to have a separate optimizer for every individually trained part of the network\n",
        "    as calling optimizer.step() would otherwise cause all parts of the network to be updated\n",
        "    even when their respective gradients are zero (due to momentum)\n",
        "    \"\"\"\n",
        "    optimizer = []\n",
        "    for idx, layer in enumerate(model.module.fullmodel):\n",
        "        if isinstance(opt.learning_rate, list):\n",
        "            cur_lr = opt.learning_rate[idx]\n",
        "        else:\n",
        "            cur_lr = opt.learning_rate\n",
        "        optimizer.append(torch.optim.Adam(layer.parameters(), lr=cur_lr))\n",
        "\n",
        "    model, optimizer = model_utils.reload_weights(opt, model, optimizer, reload_model)\n",
        "\n",
        "    model.train()\n",
        "    print(model)\n",
        "\n",
        "    return model, optimizer"
      ],
      "execution_count": null,
      "outputs": []
    },
    {
      "cell_type": "markdown",
      "metadata": {
        "id": "Pfa0HGEaIU-l"
      },
      "source": [
        ""
      ]
    }
  ]
}